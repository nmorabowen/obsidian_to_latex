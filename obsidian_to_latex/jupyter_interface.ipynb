{
 "cells": [
  {
   "cell_type": "markdown",
   "metadata": {},
   "source": [
    "# Obsidian to LaTeX Converter - Jupyter Interface\n",
    "\n",
    "This notebook provides an interactive interface to convert Obsidian markdown files to LaTeX sections."
   ]
  },
  {
   "cell_type": "code",
   "execution_count": 1,
   "metadata": {},
   "outputs": [],
   "source": [
    "# Import necessary libraries\n",
    "import os\n",
    "import sys\n",
    "from pathlib import Path\n",
    "import ipywidgets as widgets\n",
    "from IPython.display import display, HTML, clear_output\n",
    "import traceback\n",
    "\n",
    "# Add the parent directory to the path to import the obsidian_to_latex package\n",
    "module_path = os.path.abspath(os.path.join('..'))\n",
    "if module_path not in sys.path:\n",
    "    sys.path.append(module_path)\n",
    "\n",
    "# Import the converter\n",
    "from obsidian_to_latex.converter import ObsidianLatexSectionConverter"
   ]
  },
  {
   "cell_type": "markdown",
   "metadata": {},
   "source": [
    "## File Selection Widgets\n",
    "\n",
    "Select your Obsidian markdown file and output options."
   ]
  },
  {
   "cell_type": "code",
   "execution_count": 2,
   "metadata": {},
   "outputs": [
    {
     "data": {
      "application/vnd.jupyter.widget-view+json": {
       "model_id": "0f59f43e6a864b2596f718d08a518505",
       "version_major": 2,
       "version_minor": 0
      },
      "text/plain": [
       "Dropdown(description='Input File:', layout=Layout(width='80%'), options=(), style=DescriptionStyle(description…"
      ]
     },
     "metadata": {},
     "output_type": "display_data"
    },
    {
     "data": {
      "application/vnd.jupyter.widget-view+json": {
       "model_id": "104eda8916b0410da0a23302fded90be",
       "version_major": 2,
       "version_minor": 0
      },
      "text/plain": [
       "Text(value='output.tex', description='Output File:', layout=Layout(width='80%'), style=TextStyle(description_w…"
      ]
     },
     "metadata": {},
     "output_type": "display_data"
    },
    {
     "data": {
      "application/vnd.jupyter.widget-view+json": {
       "model_id": "80a767b2ac8240e28dfa9e1a57b5f96d",
       "version_major": 2,
       "version_minor": 0
      },
      "text/plain": [
       "Text(value='figures', description='Figures Directory:', layout=Layout(width='80%'), style=TextStyle(descriptio…"
      ]
     },
     "metadata": {},
     "output_type": "display_data"
    },
    {
     "data": {
      "application/vnd.jupyter.widget-view+json": {
       "model_id": "6cec345c4686409eaee074d42253758b",
       "version_major": 2,
       "version_minor": 0
      },
      "text/plain": [
       "IntSlider(value=0, description='Header Level Adjustment:', layout=Layout(width='50%'), max=2, min=-2, style=Sl…"
      ]
     },
     "metadata": {},
     "output_type": "display_data"
    },
    {
     "data": {
      "application/vnd.jupyter.widget-view+json": {
       "model_id": "cbe316fa925247d48fcd95f5987d3c8d",
       "version_major": 2,
       "version_minor": 0
      },
      "text/plain": [
       "Dropdown(description='If file exists:', layout=Layout(width='80%'), options=(('Overwrite existing file', 'over…"
      ]
     },
     "metadata": {},
     "output_type": "display_data"
    },
    {
     "data": {
      "application/vnd.jupyter.widget-view+json": {
       "model_id": "de22be6d04024367a2e9e1f22a6cd16a",
       "version_major": 2,
       "version_minor": 0
      },
      "text/plain": [
       "Checkbox(value=False, description='Verbose Mode', style=CheckboxStyle(description_width='initial'))"
      ]
     },
     "metadata": {},
     "output_type": "display_data"
    }
   ],
   "source": [
    "# Get the current directory\n",
    "current_dir = os.getcwd()\n",
    "\n",
    "# Function to list available markdown files\n",
    "def list_markdown_files(directory=current_dir):\n",
    "    md_files = []\n",
    "    for root, dirs, files in os.walk(directory):\n",
    "        for file in files:\n",
    "            if file.endswith('.md'):\n",
    "                md_files.append(os.path.join(root, file))\n",
    "    return md_files\n",
    "\n",
    "# Create widgets\n",
    "input_file_dropdown = widgets.Dropdown(\n",
    "    options=list_markdown_files(),\n",
    "    description='Input File:',\n",
    "    style={'description_width': 'initial'},\n",
    "    layout=widgets.Layout(width='80%')\n",
    ")\n",
    "\n",
    "output_file = widgets.Text(\n",
    "    value='output.tex',\n",
    "    description='Output File:',\n",
    "    style={'description_width': 'initial'},\n",
    "    layout=widgets.Layout(width='80%')\n",
    ")\n",
    "\n",
    "figures_dir = widgets.Text(\n",
    "    value='figures',\n",
    "    description='Figures Directory:',\n",
    "    style={'description_width': 'initial'},\n",
    "    layout=widgets.Layout(width='80%')\n",
    ")\n",
    "\n",
    "level_adjust = widgets.IntSlider(\n",
    "    value=0,\n",
    "    min=-2,\n",
    "    max=2,\n",
    "    step=1,\n",
    "    description='Header Level Adjustment:',\n",
    "    style={'description_width': 'initial'},\n",
    "    layout=widgets.Layout(width='50%')\n",
    ")\n",
    "\n",
    "# Add file overwrite mode dropdown\n",
    "overwrite_mode = widgets.Dropdown(\n",
    "    options=[\n",
    "        ('Overwrite existing file', 'overwrite'),\n",
    "        ('Create backup before overwriting', 'backup'),\n",
    "        ('Skip if file exists', 'skip')\n",
    "    ],\n",
    "    value='overwrite',\n",
    "    description='If file exists:',\n",
    "    style={'description_width': 'initial'},\n",
    "    layout=widgets.Layout(width='80%')\n",
    ")\n",
    "\n",
    "verbose_checkbox = widgets.Checkbox(\n",
    "    value=False,\n",
    "    description='Verbose Mode',\n",
    "    style={'description_width': 'initial'}\n",
    ")\n",
    "\n",
    "# Display widgets\n",
    "display(input_file_dropdown, output_file, figures_dir, level_adjust, overwrite_mode, verbose_checkbox)"
   ]
  },
  {
   "cell_type": "markdown",
   "metadata": {},
   "source": [
    "## Convert Button and Output"
   ]
  },
  {
   "cell_type": "code",
   "execution_count": 3,
   "metadata": {},
   "outputs": [
    {
     "data": {
      "application/vnd.jupyter.widget-view+json": {
       "model_id": "f65f190288b8441c9969e19e6667bffe",
       "version_major": 2,
       "version_minor": 0
      },
      "text/plain": [
       "HBox(children=(Button(button_style='primary', description='Convert to LaTeX', style=ButtonStyle(), tooltip='Co…"
      ]
     },
     "metadata": {},
     "output_type": "display_data"
    },
    {
     "data": {
      "application/vnd.jupyter.widget-view+json": {
       "model_id": "8754d2bf84ca49e7a90f4229f0622af5",
       "version_major": 2,
       "version_minor": 0
      },
      "text/plain": [
       "HTML(value='<h3>Log Output:</h3>')"
      ]
     },
     "metadata": {},
     "output_type": "display_data"
    },
    {
     "data": {
      "application/vnd.jupyter.widget-view+json": {
       "model_id": "210d243cb8174a309c1c7ee29487906d",
       "version_major": 2,
       "version_minor": 0
      },
      "text/plain": [
       "Output()"
      ]
     },
     "metadata": {},
     "output_type": "display_data"
    },
    {
     "data": {
      "application/vnd.jupyter.widget-view+json": {
       "model_id": "99ad8de761fe42ed856a572057c0eeb0",
       "version_major": 2,
       "version_minor": 0
      },
      "text/plain": [
       "HTML(value='<h3>LaTeX Preview:</h3>')"
      ]
     },
     "metadata": {},
     "output_type": "display_data"
    },
    {
     "data": {
      "application/vnd.jupyter.widget-view+json": {
       "model_id": "0d364bd30c0e4e4f9d3455199a494301",
       "version_major": 2,
       "version_minor": 0
      },
      "text/plain": [
       "Output()"
      ]
     },
     "metadata": {},
     "output_type": "display_data"
    }
   ],
   "source": [
    "# Create output widgets\n",
    "output_area = widgets.Output()\n",
    "preview_area = widgets.Output()\n",
    "\n",
    "# Create conversion function\n",
    "def convert_file(b):\n",
    "    # Clear previous output\n",
    "    with output_area:\n",
    "        clear_output()\n",
    "    with preview_area:\n",
    "        clear_output()\n",
    "    \n",
    "    # Get values from widgets\n",
    "    input_file = input_file_dropdown.value\n",
    "    output_file_path = output_file.value\n",
    "    figures_directory = figures_dir.value\n",
    "    level_adjustment = level_adjust.value\n",
    "    file_overwrite_mode = overwrite_mode.value\n",
    "    verbose = verbose_checkbox.value\n",
    "    \n",
    "    # Create log file path (in same directory as output file)\n",
    "    log_file_path = os.path.join(\n",
    "        os.path.dirname(output_file_path) if os.path.dirname(output_file_path) else \".\",\n",
    "        \"obsidian2latex_debug.log\"\n",
    "    )\n",
    "    \n",
    "    # Create converter with log file\n",
    "    converter = ObsidianLatexSectionConverter(\n",
    "        input_file=input_file,\n",
    "        output_file=output_file_path,\n",
    "        figures_dir=figures_directory,\n",
    "        verbose=verbose,\n",
    "        log_file=log_file_path\n",
    "    )\n",
    "    \n",
    "    # Perform conversion\n",
    "    with output_area:\n",
    "        try:\n",
    "            print(f\"Converting {input_file} to {output_file_path}...\")\n",
    "            print(f\"File overwrite mode: {file_overwrite_mode}\")\n",
    "            print(f\"Detailed log will be saved to: {log_file_path}\")\n",
    "            \n",
    "            latex_content = converter.convert(level_adjustment=level_adjustment)\n",
    "            \n",
    "            if latex_content:\n",
    "                # Pass the overwrite mode to the save method\n",
    "                success = converter.save(latex_content, overwrite_mode=file_overwrite_mode)\n",
    "                \n",
    "                if success:\n",
    "                    if file_overwrite_mode == 'skip' and os.path.exists(output_file_path):\n",
    "                        print(f\"Existing file was not modified: {os.path.abspath(output_file_path)}\")\n",
    "                    else:\n",
    "                        converter.process_images()\n",
    "                        print(f\"Conversion completed successfully!\")\n",
    "                        print(f\"Output saved to: {os.path.abspath(output_file_path)}\")\n",
    "                    \n",
    "                    # Show LaTeX Preview\n",
    "                    with preview_area:\n",
    "                        print(\"LaTeX Preview (first 500 characters):\")\n",
    "                        print(\"\\n\" + \"=\" * 80 + \"\\n\")\n",
    "                        preview_content = latex_content[:500]\n",
    "                        if len(latex_content) > 500:\n",
    "                            preview_content += \"\\n... (content truncated)\"\n",
    "                        print(preview_content)\n",
    "                else:\n",
    "                    print(\"Failed to save output file.\")\n",
    "                    print(f\"See log for details: {os.path.abspath(log_file_path)}\")\n",
    "            else:\n",
    "                print(\"Conversion failed.\")\n",
    "                print(f\"See log for details: {os.path.abspath(log_file_path)}\")\n",
    "        except Exception as e:\n",
    "            print(f\"An error occurred: {e}\")\n",
    "            print(traceback.format_exc())\n",
    "            print(f\"\\nDetailed error information saved to: {os.path.abspath(log_file_path)}\")\n",
    "\n",
    "# Function to view the log file\n",
    "def view_log_file(b):\n",
    "    log_file_path = os.path.join(\n",
    "        os.path.dirname(output_file.value) if os.path.dirname(output_file.value) else \".\",\n",
    "        \"obsidian2latex_debug.log\"\n",
    "    )\n",
    "    \n",
    "    with output_area:\n",
    "        clear_output()\n",
    "        try:\n",
    "            if os.path.exists(log_file_path):\n",
    "                with open(log_file_path, 'r') as f:\n",
    "                    log_content = f.read()\n",
    "                print(f\"Log file content ({log_file_path}):\")\n",
    "                print(\"=\" * 80)\n",
    "                print(log_content)\n",
    "            else:\n",
    "                print(f\"Log file not found: {log_file_path}\")\n",
    "        except Exception as e:\n",
    "            print(f\"Error reading log file: {e}\")\n",
    "\n",
    "# Create buttons\n",
    "convert_button = widgets.Button(\n",
    "    description='Convert to LaTeX',\n",
    "    button_style='primary',\n",
    "    tooltip='Convert Obsidian markdown to LaTeX'\n",
    ")\n",
    "\n",
    "view_log_button = widgets.Button(\n",
    "    description='View Log File',\n",
    "    button_style='info',\n",
    "    tooltip='View the detailed log file'\n",
    ")\n",
    "\n",
    "convert_button.on_click(convert_file)\n",
    "view_log_button.on_click(view_log_file)\n",
    "\n",
    "# Display buttons in a row\n",
    "button_row = widgets.HBox([convert_button, view_log_button])\n",
    "display(button_row)\n",
    "display(widgets.HTML(\"<h3>Log Output:</h3>\"))\n",
    "display(output_area)\n",
    "display(widgets.HTML(\"<h3>LaTeX Preview:</h3>\"))\n",
    "display(preview_area)"
   ]
  },
  {
   "cell_type": "markdown",
   "metadata": {},
   "source": [
    "## Tips for Using the Converter\n",
    "\n",
    "1. **Header Levels**: Use the header level adjustment to fit your LaTeX document structure. For example, if your Obsidian file uses `#` headers that should be `\\subsection` in LaTeX, set the adjustment to `1`.\n",
    "\n",
    "2. **Images**: The converter will try to find images in the following locations:\n",
    "   - `attachments` folder in the same directory as the markdown file\n",
    "   - `assets` folder in the same directory\n",
    "   - `images` folder in the same directory\n",
    "   - `attachments` folder in the parent directory\n",
    "\n",
    "3. **Math Expressions**: The converter preserves math expressions in the document. It handles both inline math (`$...$`) and display math (`$$...$$`).\n",
    "\n",
    "4. **Including in LaTeX Documents**: To include the generated section in your LaTeX document, use `\\input{path/to/output.tex}` in your main LaTeX file.\n",
    "\n",
    "5. **File Handling Options**:\n",
    "   - **Overwrite existing file**: Replaces any existing file with the same name\n",
    "   - **Create backup before overwriting**: Creates a timestamped backup of the existing file before replacing it\n",
    "   - **Skip if file exists**: Leaves the existing file untouched if it already exists"
   ]
  }
 ],
 "metadata": {
  "kernelspec": {
   "display_name": "Python 3.12 (APE_env)",
   "language": "python",
   "name": "ape_env"
  },
  "language_info": {
   "codemirror_mode": {
    "name": "ipython",
    "version": 3
   },
   "file_extension": ".py",
   "mimetype": "text/x-python",
   "name": "python",
   "nbconvert_exporter": "python",
   "pygments_lexer": "ipython3",
   "version": "3.12.9"
  }
 },
 "nbformat": 4,
 "nbformat_minor": 4
}
